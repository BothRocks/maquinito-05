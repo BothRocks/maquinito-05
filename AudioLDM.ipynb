{
  "nbformat": 4,
  "nbformat_minor": 0,
  "metadata": {
    "colab": {
      "private_outputs": true,
      "provenance": []
    },
    "kernelspec": {
      "name": "python3",
      "display_name": "Python 3"
    },
    "language_info": {
      "name": "python"
    },
    "accelerator": "GPU",
    "gpuClass": "standard"
  },
  "cells": [
    {
      "cell_type": "markdown",
      "source": [
        "# AudioLDM\n",
        "Basado en \n",
        "* https://huggingface.co/docs/diffusers/api/pipelines/audioldm\n",
        "* https://huggingface.co/cvssp\n",
        "* https://huggingface.co/spaces/haoheliu/audioldm-text-to-audio-generation"
      ],
      "metadata": {
        "id": "X6p9d05oNI4z"
      }
    },
    {
      "cell_type": "markdown",
      "source": [
        "## Preparación del entorno"
      ],
      "metadata": {
        "id": "vq-q95TFNMlz"
      }
    },
    {
      "cell_type": "code",
      "source": [
        "!pip install diffusers==0.16.0\n",
        "!pip install transformers\n",
        "!pip install accelerate"
      ],
      "metadata": {
        "id": "n2iIOCxP4zTD"
      },
      "execution_count": null,
      "outputs": []
    },
    {
      "cell_type": "code",
      "execution_count": null,
      "metadata": {
        "id": "lK6nrQfG4oaN"
      },
      "outputs": [],
      "source": [
        "from diffusers import AudioLDMPipeline, DPMSolverMultistepScheduler\n",
        "import torch\n",
        "from scipy.io.wavfile import write\n",
        "from IPython.display import Audio\n",
        "from google.colab import files\n",
        "\n",
        "if torch.cuda.is_available():\n",
        "    device = \"cuda\"\n",
        "    torch_dtype = torch.float16\n",
        "else:\n",
        "    device = \"cpu\"\n",
        "    torch_dtype = torch.float32\n",
        "\n",
        "#repo_id = \"cvssp/audioldm\" # audioldm-s-full\n",
        "repo_id = \"cvssp/audioldm-s-full-v2\"\n",
        "#repo_id = \"cvssp/audioldm-m-full\"\n",
        "#repo_id = \"cvssp/audioldm-l-full\"\n",
        "\n",
        "pipe = AudioLDMPipeline.from_pretrained(repo_id, torch_dtype=torch_dtype)\n",
        "pipe = pipe.to(device)\n",
        "pipe.scheduler = DPMSolverMultistepScheduler.from_config(pipe.scheduler.config)\n",
        "\n",
        "generator = torch.Generator(device)"
      ]
    },
    {
      "cell_type": "markdown",
      "source": [
        "## Generación"
      ],
      "metadata": {
        "id": "NOgfgbY6NP5M"
      }
    },
    {
      "cell_type": "code",
      "source": [
        "prompt = \"trance swell, swelling, crescendo\" #@param {type:\"string\"}\n",
        "audio_length = 10 #@param{type:\"slider\", min:5.0, max:30.0, step:5.0}\n",
        "inference_steps = 10 #@param {type:\"slider\", min:10, max:50, step:10}\n",
        "guidance_scale = 2.5 #@param{type:\"slider\", min:q.5, max:5.0, step:0.5}\n",
        "negative_prompt = \"low quality, average quality\"# @param {type:\"string\"}\n",
        "num_waveforms = 2 #@param{type:\"slider\", min:1, max:16, step:1}\n",
        "seed = 3849653847 #@param{type:\"number\"}\n",
        "\n",
        "audiodata = pipe(prompt = prompt, \n",
        "                  audio_length_in_s=audio_length,\n",
        "                  num_inference_steps=inference_steps, \n",
        "                  guidance_scale=guidance_scale, \n",
        "                  negative_prompt=negative_prompt, \n",
        "                  num_waveforms_per_prompt=num_waveforms, \n",
        "                  generator=generator.manual_seed(int(seed))\n",
        "                  ).audios\n",
        "\n",
        "for index, a in enumerate(audiodata):\n",
        "  audiofilename = f\"audio_{index+1}.wav\"\n",
        "  write(audiofilename, 16000, a.astype('float32'))  \n",
        "\n",
        "zipfilename = f\"{prompt[:40].replace(' ', '_')}.zip\"\n",
        "!zip -r $zipfilename *.wav\n",
        "files.download(zipfilename)\n",
        "\n",
        "Audio(data=audiodata[0], rate=16000)\n",
        "\n"
      ],
      "metadata": {
        "id": "X0wpx2sd-aoF"
      },
      "execution_count": null,
      "outputs": []
    },
    {
      "cell_type": "code",
      "source": [
        "!rm *.zip\n",
        "!rm *.wav"
      ],
      "metadata": {
        "id": "Kdrdhj2rJqqP"
      },
      "execution_count": null,
      "outputs": []
    }
  ]
}
