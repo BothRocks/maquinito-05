{
  "nbformat": 4,
  "nbformat_minor": 0,
  "metadata": {
    "colab": {
      "private_outputs": true,
      "provenance": []
    },
    "kernelspec": {
      "name": "python3",
      "display_name": "Python 3"
    },
    "language_info": {
      "name": "python"
    },
    "accelerator": "GPU",
    "gpuClass": "standard"
  },
  "cells": [
    {
      "cell_type": "markdown",
      "source": [
        "# AudioLDM"
      ],
      "metadata": {
        "id": "X6p9d05oNI4z"
      }
    },
    {
      "cell_type": "markdown",
      "source": [
        "## Preparación del entorno"
      ],
      "metadata": {
        "id": "vq-q95TFNMlz"
      }
    },
    {
      "cell_type": "code",
      "source": [
        "!pip install diffusers==0.15.0\n",
        "!pip install transformers\n",
        "!pip install accelerate"
      ],
      "metadata": {
        "id": "n2iIOCxP4zTD"
      },
      "execution_count": null,
      "outputs": []
    },
    {
      "cell_type": "code",
      "execution_count": null,
      "metadata": {
        "id": "lK6nrQfG4oaN"
      },
      "outputs": [],
      "source": [
        "from diffusers import AudioLDMPipeline, DPMSolverMultistepScheduler\n",
        "import torch\n",
        "from scipy.io.wavfile import write\n",
        "from IPython.display import Audio\n",
        "from google.colab import files\n",
        "\n",
        "repo_id = \"cvssp/audioldm\"\n",
        "pipe = AudioLDMPipeline.from_pretrained(repo_id, torch_dtype=torch.float16)\n",
        "pipe.scheduler = DPMSolverMultistepScheduler.from_config(pipe.scheduler.config)\n",
        "\n",
        "pipe = pipe.to(\"cuda\")"
      ]
    },
    {
      "cell_type": "markdown",
      "source": [
        "## Generación"
      ],
      "metadata": {
        "id": "NOgfgbY6NP5M"
      }
    },
    {
      "cell_type": "code",
      "source": [
        "prompt = \"trance swell, swelling, crescendo\" #@param {type:\"string\"}\n",
        "steps = 75 #@param {type:\"slider\", min:10, max:75, step:5}\n",
        "length = 10 #@param{type:\"slider\", min:5.0, max:30.0, step:5.0}\n",
        "num_wavs = 5 #@param{type:\"slider\", min:1, max:16, step:1}\n",
        "\n",
        "for a in range (num_wavs):\n",
        "  audiodata = pipe(prompt, num_inference_steps=steps, audio_length_in_s=length).audios[0]\n",
        "  audiofilename = f\"audio_{a+1}.wav\"\n",
        "  write(audiofilename, 16000, audiodata.astype('float32'))  \n",
        "\n",
        "zipfilename = f\"{prompt[:40].replace(' ', '_')}.zip\"\n",
        "!zip -r $zipfilename *.wav\n",
        "files.download(zipfilename)\n",
        "\n",
        "Audio(data=audiodata, rate=16000)\n",
        "\n"
      ],
      "metadata": {
        "id": "X0wpx2sd-aoF",
        "cellView": "form"
      },
      "execution_count": null,
      "outputs": []
    },
    {
      "cell_type": "code",
      "source": [
        "!rm *.zip\n",
        "!rm *.wav"
      ],
      "metadata": {
        "id": "Kdrdhj2rJqqP"
      },
      "execution_count": null,
      "outputs": []
    }
  ]
}