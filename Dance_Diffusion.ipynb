{
  "nbformat": 4,
  "nbformat_minor": 0,
  "metadata": {
    "colab": {
      "private_outputs": true,
      "provenance": []
    },
    "kernelspec": {
      "name": "python3",
      "display_name": "Python 3"
    },
    "language_info": {
      "name": "python"
    },
    "accelerator": "GPU",
    "gpuClass": "standard"
  },
  "cells": [
    {
      "cell_type": "code",
      "execution_count": null,
      "metadata": {
        "id": "4tvCdywULVOP"
      },
      "outputs": [],
      "source": [
        "!pip install diffusers[torch] accelerate scipy"
      ]
    },
    {
      "cell_type": "code",
      "source": [
        "from diffusers import DiffusionPipeline\n",
        "from scipy.io.wavfile import write\n",
        "import torch\n",
        "\n",
        "model_id = \"harmonai/maestro-150k\"\n",
        "pipe = DiffusionPipeline.from_pretrained(model_id)\n",
        "pipe = pipe.to(\"cuda\")"
      ],
      "metadata": {
        "id": "qGdOgFiqLW8B"
      },
      "execution_count": null,
      "outputs": []
    },
    {
      "cell_type": "code",
      "source": [
        "audios = pipe(audio_length_in_s=8.0).audios\n",
        "\n",
        "# To save locally\n",
        "for i, audio in enumerate(audios):\n",
        "    print(f\"maestro_test_{i}.wav\")\n",
        "    write(f\"maestro_test_{i}.wav\", pipe.unet.sample_rate, audio.transpose())\n",
        "    \n",
        "# To dislay in google colab\n",
        "import IPython.display as ipd\n",
        "for audio in audios:\n",
        "    display(ipd.Audio(audio, rate=pipe.unet.sample_rate))"
      ],
      "metadata": {
        "id": "2cerQfFEPcoj"
      },
      "execution_count": null,
      "outputs": []
    }
  ]
}