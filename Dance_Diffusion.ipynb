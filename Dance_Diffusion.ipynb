{
  "nbformat": 4,
  "nbformat_minor": 0,
  "metadata": {
    "colab": {
      "private_outputs": true,
      "provenance": []
    },
    "kernelspec": {
      "name": "python3",
      "display_name": "Python 3"
    },
    "language_info": {
      "name": "python"
    },
    "accelerator": "GPU",
    "gpuClass": "standard"
  },
  "cells": [
    {
      "cell_type": "markdown",
      "source": [
        "# Música Automática - Disco Diffusion\n",
        "## Maquinito Mensual 05\n"
      ],
      "metadata": {
        "id": "USZc5lhkXgIA"
      }
    },
    {
      "cell_type": "code",
      "source": [
        "#@markdown #Comprobar GPU\n",
        "!nvidia-smi -L"
      ],
      "metadata": {
        "cellView": "form",
        "id": "kjeFc0toW_tt"
      },
      "execution_count": null,
      "outputs": []
    },
    {
      "cell_type": "code",
      "execution_count": null,
      "metadata": {
        "id": "4tvCdywULVOP",
        "cellView": "form"
      },
      "outputs": [],
      "source": [
        "#@markdown #Carga de Librerías\n",
        "\n",
        "from IPython.display import clear_output\n",
        "!pip install diffusers[torch] accelerate scipy\n",
        "clear_output()\n",
        "\n",
        "from diffusers import DiffusionPipeline\n",
        "from scipy.io.wavfile import write\n",
        "import torch"
      ]
    },
    {
      "cell_type": "markdown",
      "source": [
        "\n",
        "Modelo | Descripción  \n",
        "--- | ---  \n",
        "glitch-440k |Trained on clips from samples provided by [glitch.cool](https://glitch.cool)  \n",
        "jmann-small-190k |Trained on clips from Jonathan Mann's [Song-A-Day](https://songaday.world/) project  \n",
        "jmann-large-580k |Trained on clips from Jonathan Mann's [Song-A-Day](https://songaday.world/) project  \n",
        "maestro-150k |Trained on piano clips from the [MAESTRO](https://magenta.tensorflow.org/datasets/maestro) dataset  \n",
        "unlocked-250k |Trained on clips from the [Unlocked Recordings](https://archive.org/details/unlockedrecordings) dataset  \n",
        "honk-140k |Trained on recordings of the Canada Goose from [xeno-canto](https://xeno-canto.org/) "
      ],
      "metadata": {
        "id": "0Br9zMWGdc-T"
      }
    },
    {
      "cell_type": "code",
      "source": [
        "modelo = \"harmonai/maestro-150k\" #@param [\"harmonai/maestro-150k\", \"harmonai/glitch-440k\", \"harmonai/jmann-small-190k\", \"harmonai/jmann-large-580k\", \"harmonai/unlocked-250k\", \"harmonai/honk-140k\"]\n",
        "pipe = DiffusionPipeline.from_pretrained(modelo)\n",
        "pipe = pipe.to(\"cuda\")"
      ],
      "metadata": {
        "cellView": "form",
        "id": "ineogsK1WJnc"
      },
      "execution_count": null,
      "outputs": []
    },
    {
      "cell_type": "code",
      "source": [
        "duracion = 4 #@param {type:\"number\"}\n",
        "audios = pipe(audio_length_in_s=duracion).audios\n",
        "\n",
        "# To save locally\n",
        "for i, audio in enumerate(audios):\n",
        "    print(f\"dance_diff_{i}.wav\")\n",
        "    write(f\"dance_diff_{i}.wav\", pipe.unet.sample_rate, audio.transpose())\n",
        "    \n",
        "# To dislay in google colab\n",
        "import IPython.display as ipd\n",
        "for audio in audios:\n",
        "    display(ipd.Audio(audio, rate=pipe.unet.sample_rate))"
      ],
      "metadata": {
        "id": "2cerQfFEPcoj",
        "cellView": "form"
      },
      "execution_count": null,
      "outputs": []
    }
  ]
}
